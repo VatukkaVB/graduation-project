{
 "cells": [
  {
   "cell_type": "code",
   "execution_count": 1,
   "id": "pursuant-humanity",
   "metadata": {},
   "outputs": [],
   "source": [
    "import requests\n",
    "from bs4 import BeautifulSoup\n",
    "import time\n",
    "import pandas as pd\n",
    "import json"
   ]
  },
  {
   "cell_type": "code",
   "execution_count": 7,
   "id": "peripheral-truck",
   "metadata": {},
   "outputs": [],
   "source": [
    "url = 'https://store.steampowered.com/search/results/?query&start=1&count=300&dynamic_data=&sort_by=_ASC&tags=3843&untags=4182&category1=998&category3=36%2C9%2C38%2C1&os=win&filter=globaltopsellers&infinite=1'"
   ]
  },
  {
   "cell_type": "code",
   "execution_count": 8,
   "id": "minor-desire",
   "metadata": {},
   "outputs": [
    {
     "data": {
      "text/plain": [
       "<Response [200]>"
      ]
     },
     "execution_count": 8,
     "metadata": {},
     "output_type": "execute_result"
    }
   ],
   "source": [
    "response = requests.get(url) #check if page is accessible\n",
    "response"
   ]
  },
  {
   "cell_type": "code",
   "execution_count": 7,
   "id": "tested-completion",
   "metadata": {},
   "outputs": [],
   "source": [
    "def get_rating(game):\n",
    "    #gets game rating through parsing BS tree\n",
    "    \n",
    "    try:\n",
    "        review_full = game.find(attrs={\"class\": \"search_review_summary\"})\n",
    "        output = review_full['data-tooltip-html']\n",
    "        return float(output.split('<br>')[1].split('%')[0])\n",
    "    except TypeError:\n",
    "        return '-1.0'"
   ]
  },
  {
   "cell_type": "code",
   "execution_count": 15,
   "id": "shared-elevation",
   "metadata": {},
   "outputs": [],
   "source": [
    "def get_price(game):\n",
    "    #gets game price through parsing BS tree\n",
    "    \n",
    "    if game.select(\".search_discount\")[0].span:\n",
    "        #price info can be placed in differend tags \n",
    "        #depends on discount ot not\n",
    "        p = game.select(\".discounted\")[0].span.text\n",
    "    else:\n",
    "        p = game.select(\".search_price\")[0].text.strip()\n",
    "    if p == '':\n",
    "        return -1.0\n",
    "    elif \"free\" in p.lower():\n",
    "        return 0.0\n",
    "    else:\n",
    "        p = p.strip().replace(',', '.')\n",
    "        return float(p[:-4])"
   ]
  },
  {
   "cell_type": "code",
   "execution_count": 19,
   "id": "proprietary-control",
   "metadata": {},
   "outputs": [],
   "source": [
    "def get_games_info(s):\n",
    "    p = 1\n",
    "    url = f'https://store.steampowered.com/search/results/?query&start={p}&count=100&dynamic_data=&sort_by=_ASC&tags=3843&untags=4182&category1=998&category3=36%2C9%2C38%2C1&os=win&filter=globaltopsellers&infinite=1'\n",
    "    p = s\n",
    "    response = requests.get(url)\n",
    "    y = json.loads(response.content.decode('utf-8'))\n",
    "    tree = BeautifulSoup(y['results_html'], 'html.parser')\n",
    "    games = tree.select(\".search_result_row\")\n",
    "\n",
    "    games_info = []\n",
    "    for game in games:        \n",
    "        link = game.get('href')\n",
    "        g = {'game id':link.split('/')[4],\n",
    "            'title': game.select(\".title\")[0].string,\n",
    "            'release_date': game.select(\".search_released\")[0].string,\n",
    "            'price': get_price(game),\n",
    "            'rating_inPercent':get_rating(game),\n",
    "            'url': link\n",
    "            }\n",
    "        games_info.append(g)\n",
    "        print(games_info)\n",
    "    return games_info"
   ]
  },
  {
   "cell_type": "code",
   "execution_count": null,
   "id": "original-machinery",
   "metadata": {},
   "outputs": [],
   "source": [
    "games_data = []\n",
    "for i in [100, 200, 300]:\n",
    "    new_g = get_games_info(100)\n",
    "    games_data += new_g\n",
    "    if len(games_data) in [100, 200, 300]:\n",
    "        time.sleep(3)\n",
    "    print(new_g)\n",
    "print('LENGTH:', len(games_data))"
   ]
  },
  {
   "cell_type": "code",
   "execution_count": null,
   "id": "dutch-tractor",
   "metadata": {},
   "outputs": [],
   "source": [
    "df = pd.DataFrame(games_data)\n",
    "df"
   ]
  },
  {
   "cell_type": "code",
   "execution_count": 22,
   "id": "later-brass",
   "metadata": {},
   "outputs": [],
   "source": [
    "df.to_csv('steam_coops.csv', index=True)"
   ]
  },
  {
   "cell_type": "code",
   "execution_count": 3,
   "id": "sudden-novel",
   "metadata": {},
   "outputs": [
    {
     "data": {
      "text/html": [
       "<div>\n",
       "<style scoped>\n",
       "    .dataframe tbody tr th:only-of-type {\n",
       "        vertical-align: middle;\n",
       "    }\n",
       "\n",
       "    .dataframe tbody tr th {\n",
       "        vertical-align: top;\n",
       "    }\n",
       "\n",
       "    .dataframe thead th {\n",
       "        text-align: right;\n",
       "    }\n",
       "</style>\n",
       "<table border=\"1\" class=\"dataframe\">\n",
       "  <thead>\n",
       "    <tr style=\"text-align: right;\">\n",
       "      <th></th>\n",
       "      <th>game id</th>\n",
       "      <th>title</th>\n",
       "      <th>release_date</th>\n",
       "      <th>price</th>\n",
       "      <th>rating_inPercent</th>\n",
       "      <th>url</th>\n",
       "    </tr>\n",
       "  </thead>\n",
       "  <tbody>\n",
       "    <tr>\n",
       "      <th>0</th>\n",
       "      <td>252490</td>\n",
       "      <td>Rust</td>\n",
       "      <td>8 Feb, 2018</td>\n",
       "      <td>725.0</td>\n",
       "      <td>86.0</td>\n",
       "      <td>https://store.steampowered.com/app/252490/Rust...</td>\n",
       "    </tr>\n",
       "    <tr>\n",
       "      <th>1</th>\n",
       "      <td>381210</td>\n",
       "      <td>Dead by Daylight</td>\n",
       "      <td>14 Jun, 2016</td>\n",
       "      <td>499.0</td>\n",
       "      <td>82.0</td>\n",
       "      <td>https://store.steampowered.com/app/381210/Dead...</td>\n",
       "    </tr>\n",
       "    <tr>\n",
       "      <th>2</th>\n",
       "      <td>1097150</td>\n",
       "      <td>Fall Guys: Ultimate Knockout</td>\n",
       "      <td>3 Aug, 2020</td>\n",
       "      <td>465.0</td>\n",
       "      <td>83.0</td>\n",
       "      <td>https://store.steampowered.com/app/1097150/Fal...</td>\n",
       "    </tr>\n",
       "    <tr>\n",
       "      <th>3</th>\n",
       "      <td>239140</td>\n",
       "      <td>Dying Light</td>\n",
       "      <td>27 May, 2021</td>\n",
       "      <td>1099.0</td>\n",
       "      <td>95.0</td>\n",
       "      <td>https://store.steampowered.com/app/239140/Dyin...</td>\n",
       "    </tr>\n",
       "    <tr>\n",
       "      <th>4</th>\n",
       "      <td>582660</td>\n",
       "      <td>Black Desert</td>\n",
       "      <td>25 Jul, 2019</td>\n",
       "      <td>350.0</td>\n",
       "      <td>76.0</td>\n",
       "      <td>https://store.steampowered.com/app/582660/Blac...</td>\n",
       "    </tr>\n",
       "    <tr>\n",
       "      <th>5</th>\n",
       "      <td>594650</td>\n",
       "      <td>Hunt: Showdown</td>\n",
       "      <td>27 Aug, 2019</td>\n",
       "      <td>1349.0</td>\n",
       "      <td>83.0</td>\n",
       "      <td>https://store.steampowered.com/app/594650/Hunt...</td>\n",
       "    </tr>\n",
       "    <tr>\n",
       "      <th>6</th>\n",
       "      <td>286160</td>\n",
       "      <td>Tabletop Simulator</td>\n",
       "      <td>5 Jun, 2015</td>\n",
       "      <td>419.0</td>\n",
       "      <td>95.0</td>\n",
       "      <td>https://store.steampowered.com/app/286160/Tabl...</td>\n",
       "    </tr>\n",
       "    <tr>\n",
       "      <th>7</th>\n",
       "      <td>552990</td>\n",
       "      <td>World of Warships</td>\n",
       "      <td>15 Nov, 2017</td>\n",
       "      <td>0.0</td>\n",
       "      <td>81.0</td>\n",
       "      <td>https://store.steampowered.com/app/552990/Worl...</td>\n",
       "    </tr>\n",
       "    <tr>\n",
       "      <th>8</th>\n",
       "      <td>1359090</td>\n",
       "      <td>Zero Hour</td>\n",
       "      <td>12 Aug, 2020</td>\n",
       "      <td>289.0</td>\n",
       "      <td>82.0</td>\n",
       "      <td>https://store.steampowered.com/app/1359090/Zer...</td>\n",
       "    </tr>\n",
       "    <tr>\n",
       "      <th>9</th>\n",
       "      <td>581320</td>\n",
       "      <td>Insurgency: Sandstorm</td>\n",
       "      <td>12 Dec, 2018</td>\n",
       "      <td>999.0</td>\n",
       "      <td>85.0</td>\n",
       "      <td>https://store.steampowered.com/app/581320/Insu...</td>\n",
       "    </tr>\n",
       "  </tbody>\n",
       "</table>\n",
       "</div>"
      ],
      "text/plain": [
       "   game id                         title  release_date   price  \\\n",
       "0   252490                          Rust   8 Feb, 2018   725.0   \n",
       "1   381210              Dead by Daylight  14 Jun, 2016   499.0   \n",
       "2  1097150  Fall Guys: Ultimate Knockout   3 Aug, 2020   465.0   \n",
       "3   239140                   Dying Light  27 May, 2021  1099.0   \n",
       "4   582660                  Black Desert  25 Jul, 2019   350.0   \n",
       "5   594650                Hunt: Showdown  27 Aug, 2019  1349.0   \n",
       "6   286160            Tabletop Simulator   5 Jun, 2015   419.0   \n",
       "7   552990             World of Warships  15 Nov, 2017     0.0   \n",
       "8  1359090                     Zero Hour  12 Aug, 2020   289.0   \n",
       "9   581320         Insurgency: Sandstorm  12 Dec, 2018   999.0   \n",
       "\n",
       "   rating_inPercent                                                url  \n",
       "0              86.0  https://store.steampowered.com/app/252490/Rust...  \n",
       "1              82.0  https://store.steampowered.com/app/381210/Dead...  \n",
       "2              83.0  https://store.steampowered.com/app/1097150/Fal...  \n",
       "3              95.0  https://store.steampowered.com/app/239140/Dyin...  \n",
       "4              76.0  https://store.steampowered.com/app/582660/Blac...  \n",
       "5              83.0  https://store.steampowered.com/app/594650/Hunt...  \n",
       "6              95.0  https://store.steampowered.com/app/286160/Tabl...  \n",
       "7              81.0  https://store.steampowered.com/app/552990/Worl...  \n",
       "8              82.0  https://store.steampowered.com/app/1359090/Zer...  \n",
       "9              85.0  https://store.steampowered.com/app/581320/Insu...  "
      ]
     },
     "execution_count": 3,
     "metadata": {},
     "output_type": "execute_result"
    }
   ],
   "source": [
    "games = pd.read_csv('steam_coops.csv', index_col=0)\n",
    "games.head(10)"
   ]
  },
  {
   "cell_type": "code",
   "execution_count": null,
   "id": "conservative-abortion",
   "metadata": {},
   "outputs": [],
   "source": []
  }
 ],
 "metadata": {
  "kernelspec": {
   "display_name": "Python 3",
   "language": "python",
   "name": "python3"
  },
  "language_info": {
   "codemirror_mode": {
    "name": "ipython",
    "version": 3
   },
   "file_extension": ".py",
   "mimetype": "text/x-python",
   "name": "python",
   "nbconvert_exporter": "python",
   "pygments_lexer": "ipython3",
   "version": "3.7.4"
  }
 },
 "nbformat": 4,
 "nbformat_minor": 5
}
