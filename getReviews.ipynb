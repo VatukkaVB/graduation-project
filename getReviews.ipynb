{
 "cells": [
  {
   "cell_type": "code",
   "execution_count": 4,
   "id": "cognitive-tourism",
   "metadata": {},
   "outputs": [],
   "source": [
    "import requests\n",
    "from bs4 import BeautifulSoup\n",
    "import json\n",
    "import time\n",
    "import urllib\n",
    "import pandas as pd"
   ]
  },
  {
   "cell_type": "code",
   "execution_count": 5,
   "id": "other-massage",
   "metadata": {},
   "outputs": [],
   "source": [
    "games = pd.read_csv('steam_coops.csv', index_col=0)"
   ]
  },
  {
   "cell_type": "code",
   "execution_count": 6,
   "id": "sharing-brooks",
   "metadata": {},
   "outputs": [
    {
     "data": {
      "text/html": [
       "<div>\n",
       "<style scoped>\n",
       "    .dataframe tbody tr th:only-of-type {\n",
       "        vertical-align: middle;\n",
       "    }\n",
       "\n",
       "    .dataframe tbody tr th {\n",
       "        vertical-align: top;\n",
       "    }\n",
       "\n",
       "    .dataframe thead th {\n",
       "        text-align: right;\n",
       "    }\n",
       "</style>\n",
       "<table border=\"1\" class=\"dataframe\">\n",
       "  <thead>\n",
       "    <tr style=\"text-align: right;\">\n",
       "      <th></th>\n",
       "      <th>game_id</th>\n",
       "      <th>title</th>\n",
       "      <th>release_date</th>\n",
       "      <th>price</th>\n",
       "      <th>rating_inPercent</th>\n",
       "      <th>url</th>\n",
       "    </tr>\n",
       "  </thead>\n",
       "  <tbody>\n",
       "    <tr>\n",
       "      <th>0</th>\n",
       "      <td>1426210</td>\n",
       "      <td>It Takes Two</td>\n",
       "      <td>25 Mar, 2021</td>\n",
       "      <td>2499.0</td>\n",
       "      <td>95.0</td>\n",
       "      <td>https://store.steampowered.com/app/1426210/It_...</td>\n",
       "    </tr>\n",
       "    <tr>\n",
       "      <th>1</th>\n",
       "      <td>1172470</td>\n",
       "      <td>Apex Legends™</td>\n",
       "      <td>4 Nov, 2020</td>\n",
       "      <td>0.0</td>\n",
       "      <td>90.0</td>\n",
       "      <td>https://store.steampowered.com/app/1172470/Ape...</td>\n",
       "    </tr>\n",
       "    <tr>\n",
       "      <th>2</th>\n",
       "      <td>1085660</td>\n",
       "      <td>Destiny 2</td>\n",
       "      <td>1 Oct, 2019</td>\n",
       "      <td>0.0</td>\n",
       "      <td>85.0</td>\n",
       "      <td>https://store.steampowered.com/app/1085660/Des...</td>\n",
       "    </tr>\n",
       "    <tr>\n",
       "      <th>3</th>\n",
       "      <td>1056640</td>\n",
       "      <td>Phantasy Star Online 2 New Genesis</td>\n",
       "      <td>5 Aug, 2020</td>\n",
       "      <td>0.0</td>\n",
       "      <td>80.0</td>\n",
       "      <td>https://store.steampowered.com/app/1056640/Pha...</td>\n",
       "    </tr>\n",
       "    <tr>\n",
       "      <th>4</th>\n",
       "      <td>252490</td>\n",
       "      <td>Rust</td>\n",
       "      <td>8 Feb, 2018</td>\n",
       "      <td>725.0</td>\n",
       "      <td>86.0</td>\n",
       "      <td>https://store.steampowered.com/app/252490/Rust...</td>\n",
       "    </tr>\n",
       "    <tr>\n",
       "      <th>5</th>\n",
       "      <td>381210</td>\n",
       "      <td>Dead by Daylight</td>\n",
       "      <td>14 Jun, 2016</td>\n",
       "      <td>499.0</td>\n",
       "      <td>82.0</td>\n",
       "      <td>https://store.steampowered.com/app/381210/Dead...</td>\n",
       "    </tr>\n",
       "    <tr>\n",
       "      <th>6</th>\n",
       "      <td>892970</td>\n",
       "      <td>Valheim</td>\n",
       "      <td>2 Feb, 2021</td>\n",
       "      <td>435.0</td>\n",
       "      <td>96.0</td>\n",
       "      <td>https://store.steampowered.com/app/892970/Valh...</td>\n",
       "    </tr>\n",
       "    <tr>\n",
       "      <th>7</th>\n",
       "      <td>739630</td>\n",
       "      <td>Phasmophobia</td>\n",
       "      <td>18 Sep, 2020</td>\n",
       "      <td>309.0</td>\n",
       "      <td>97.0</td>\n",
       "      <td>https://store.steampowered.com/app/739630/Phas...</td>\n",
       "    </tr>\n",
       "    <tr>\n",
       "      <th>8</th>\n",
       "      <td>552990</td>\n",
       "      <td>World of Warships</td>\n",
       "      <td>15 Nov, 2017</td>\n",
       "      <td>0.0</td>\n",
       "      <td>81.0</td>\n",
       "      <td>https://store.steampowered.com/app/552990/Worl...</td>\n",
       "    </tr>\n",
       "    <tr>\n",
       "      <th>9</th>\n",
       "      <td>1097150</td>\n",
       "      <td>Fall Guys: Ultimate Knockout</td>\n",
       "      <td>3 Aug, 2020</td>\n",
       "      <td>465.0</td>\n",
       "      <td>83.0</td>\n",
       "      <td>https://store.steampowered.com/app/1097150/Fal...</td>\n",
       "    </tr>\n",
       "  </tbody>\n",
       "</table>\n",
       "</div>"
      ],
      "text/plain": [
       "   game_id                               title  release_date   price  \\\n",
       "0  1426210                        It Takes Two  25 Mar, 2021  2499.0   \n",
       "1  1172470                       Apex Legends™   4 Nov, 2020     0.0   \n",
       "2  1085660                           Destiny 2   1 Oct, 2019     0.0   \n",
       "3  1056640  Phantasy Star Online 2 New Genesis   5 Aug, 2020     0.0   \n",
       "4   252490                                Rust   8 Feb, 2018   725.0   \n",
       "5   381210                    Dead by Daylight  14 Jun, 2016   499.0   \n",
       "6   892970                             Valheim   2 Feb, 2021   435.0   \n",
       "7   739630                        Phasmophobia  18 Sep, 2020   309.0   \n",
       "8   552990                   World of Warships  15 Nov, 2017     0.0   \n",
       "9  1097150        Fall Guys: Ultimate Knockout   3 Aug, 2020   465.0   \n",
       "\n",
       "   rating_inPercent                                                url  \n",
       "0              95.0  https://store.steampowered.com/app/1426210/It_...  \n",
       "1              90.0  https://store.steampowered.com/app/1172470/Ape...  \n",
       "2              85.0  https://store.steampowered.com/app/1085660/Des...  \n",
       "3              80.0  https://store.steampowered.com/app/1056640/Pha...  \n",
       "4              86.0  https://store.steampowered.com/app/252490/Rust...  \n",
       "5              82.0  https://store.steampowered.com/app/381210/Dead...  \n",
       "6              96.0  https://store.steampowered.com/app/892970/Valh...  \n",
       "7              97.0  https://store.steampowered.com/app/739630/Phas...  \n",
       "8              81.0  https://store.steampowered.com/app/552990/Worl...  \n",
       "9              83.0  https://store.steampowered.com/app/1097150/Fal...  "
      ]
     },
     "execution_count": 6,
     "metadata": {},
     "output_type": "execute_result"
    }
   ],
   "source": [
    "games.head(10)"
   ]
  },
  {
   "cell_type": "code",
   "execution_count": 7,
   "id": "excited-minute",
   "metadata": {},
   "outputs": [],
   "source": [
    "def get_url(old_link):\n",
    "    #collects URL with Steam app id\n",
    "    \n",
    "    parts = old_link.split('/')[3:5]\n",
    "    return \"https://steamcommunity.com/\"+ parts[0] + \"/\" + parts[1] + \"/\" +\"reviews/?browsefilter=toprated&snr=1_5_100010_#scrollTop=100\""
   ]
  },
  {
   "cell_type": "markdown",
   "id": "behind-issue",
   "metadata": {},
   "source": [
    "JSON structure from: https://partner.steamgames.com/doc/store/getreviews"
   ]
  },
  {
   "cell_type": "code",
   "execution_count": 8,
   "id": "brave-sweet",
   "metadata": {},
   "outputs": [],
   "source": [
    "def get_reviews(appid):\n",
    "    cursor = '*'\n",
    "    url = f\"https://store.steampowered.com/appreviews/{appid}?json=1&filter=updated&language=english&cursor={cursor}&num_per_page=100\"\n",
    "    response = requests.get(url)\n",
    "    y = json.loads(response.content.decode('utf-8'))\n",
    "    \n",
    "    reviews_list = [] #init empty reviews list\n",
    "    pos = lambda x: 1 if x == True else 0\n",
    "    if y['query_summary']['total_reviews'] >= 5000: #game has more than 5000 revs\n",
    "        #print(\"game has \", y['query_summary']['total_reviews'], \" reviews\")\n",
    "        while len(reviews_list) < 5000: #if we collected less than 5000 reviews\n",
    "            num_revs = y['query_summary'][\"num_reviews\"]\n",
    "            all_rews = y['reviews'] #take all revs\n",
    "            cursor = urllib.parse.quote_plus(y['cursor'])#we need to URL encode cursor\n",
    "            #print(num_revs, ' ', len(reviews_list))\n",
    "            #print('cursor encoded ', cursor)\n",
    "            for item in all_rews:\n",
    "                g = {'game id':appid,\n",
    "                    'review text': item['review'],\n",
    "                    'positive' : pos(item['voted_up'])\n",
    "                    }\n",
    "                reviews_list.append(g)\n",
    "            url = f\"https://store.steampowered.com/appreviews/{appid}?json=1&filter=updated&language=english&cursor={cursor}&num_per_page=100\"\n",
    "            response = requests.get(url) \n",
    "        time.sleep(3)\n",
    "    #else:\n",
    "        #print(\"NaN\")\n",
    "    return reviews_list"
   ]
  },
  {
   "cell_type": "code",
   "execution_count": null,
   "id": "thrown-civilian",
   "metadata": {},
   "outputs": [],
   "source": [
    "n = 0\n",
    "reviews = []\n",
    "for id in games['game_id'].tolist():\n",
    "    print('---------GAME', id, ' ', n)\n",
    "    reviews += get_reviews(id)\n",
    "    n += 1"
   ]
  },
  {
   "cell_type": "code",
   "execution_count": 33,
   "id": "missing-building",
   "metadata": {},
   "outputs": [],
   "source": [
    "df = pd.DataFrame(reviews)\n",
    "df"
   ]
  },
  {
   "cell_type": "code",
   "execution_count": 18,
   "id": "sound-halloween",
   "metadata": {},
   "outputs": [],
   "source": [
    "df.to_csv('reviews_demonstration.csv')"
   ]
  },
  {
   "cell_type": "code",
   "execution_count": 5,
   "id": "chicken-cursor",
   "metadata": {},
   "outputs": [
    {
     "data": {
      "text/plain": [
       "\"The game itself was easy to play, which is best even for those who doesn't usually play video games but want to have a good time with their friends/partner. Tho it was simple, the pacing, art, music, and variety of game play completely makes up for what it lakes in difficulty. I recommend this game to everyone.\""
      ]
     },
     "execution_count": 5,
     "metadata": {},
     "output_type": "execute_result"
    }
   ],
   "source": [
    "reviews = pd.read_csv('reviews_demonstration.csv', index_col=0)\n",
    "reviews = reviews.dropna()\n",
    "reviews.loc[0, 'review text']"
   ]
  }
 ],
 "metadata": {
  "kernelspec": {
   "display_name": "Python 3",
   "language": "python",
   "name": "python3"
  },
  "language_info": {
   "codemirror_mode": {
    "name": "ipython",
    "version": 3
   },
   "file_extension": ".py",
   "mimetype": "text/x-python",
   "name": "python",
   "nbconvert_exporter": "python",
   "pygments_lexer": "ipython3",
   "version": "3.7.4"
  }
 },
 "nbformat": 4,
 "nbformat_minor": 5
}
